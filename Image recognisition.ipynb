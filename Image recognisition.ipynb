{
 "cells": [
  {
   "cell_type": "code",
   "execution_count": 12,
   "id": "0c69a6f4-4e1c-4462-8ea9-29d022f76cde",
   "metadata": {},
   "outputs": [],
   "source": [
    "import tensorflow as tf\n",
    "from tensorflow.keras.preprocessing.image import ImageDataGenerator\n",
    "import os\n"
   ]
  },
  {
   "cell_type": "code",
   "execution_count": 13,
   "id": "ef35e0b3-7155-4c83-8ec0-3090924831be",
   "metadata": {},
   "outputs": [],
   "source": [
    "# Set the directory path\n",
    "base_dir = '/Users/apple/Desktop/photos dataset'\n",
    "# Subfolders are:\n",
    "me_only_dir = os.path.join(base_dir, 'me only')\n",
    "me_others_dir = os.path.join(base_dir, 'me+others')\n",
    "others_only_dir = os.path.join(base_dir, 'other only')"
   ]
  },
  {
   "cell_type": "code",
   "execution_count": 15,
   "id": "b6011d0b-4f18-46d9-a5c7-b2e4d6fff2a5",
   "metadata": {},
   "outputs": [
    {
     "name": "stdout",
     "output_type": "stream",
     "text": [
      "'Me only': 60 images\n",
      "'Me+others': 60 images\n",
      "'Others only': 60 images\n"
     ]
    }
   ],
   "source": [
    "def count_valid_images(folder_path):\n",
    "    valid_extensions = ('.jpg', '.jpeg', '.png', '.bmp','.heic') # Common image formats\n",
    "    return len([f for f in os.listdir(folder_path) if\n",
    "f.lower().endswith(valid_extensions)])\n",
    "    \n",
    "print(f\"'Me only': {count_valid_images(me_only_dir)} images\")\n",
    "print(f\"'Me+others': {count_valid_images(me_others_dir)} images\")\n",
    "print(f\"'Others only': {count_valid_images(others_only_dir)} images\")"
   ]
  },
  {
   "cell_type": "code",
   "execution_count": 33,
   "id": "e342d828-f051-4b51-a7c9-62d1badd1735",
   "metadata": {},
   "outputs": [],
   "source": [
    "datagen = ImageDataGenerator(\n",
    "    rotation_range=30,\n",
    "    width_shift_range=0.2,\n",
    "    height_shift_range=0.2,\n",
    "    shear_range=0.2,\n",
    "    zoom_range=0.2,\n",
    "    horizontal_flip=True,\n",
    "    fill_mode='nearest'\n",
    ")\n",
    "datagen.fit(X_train)\n"
   ]
  },
  {
   "cell_type": "code",
   "execution_count": 34,
   "id": "d3c11fae-8fb0-4f6e-b835-55c82b4ed841",
   "metadata": {},
   "outputs": [],
   "source": [
    "X = X / 255.0\n"
   ]
  },
  {
   "cell_type": "code",
   "execution_count": 35,
   "id": "47e26fb4-6836-40d4-b6d1-3e038f589a20",
   "metadata": {},
   "outputs": [],
   "source": [
    "def preprocess_image(img_path, target_size=(224, 224)):\n",
    "    img = cv2.imread(img_path)\n",
    "    old_size = img.shape[:2]  # Original size (height, width)\n",
    "    ratio = float(target_size[0]) / max(old_size)\n",
    "    new_size = tuple([int(x * ratio) for x in old_size])\n",
    "    img = cv2.resize(img, (new_size[1], new_size[0]))  # Resize by ratio\n",
    "    delta_w = target_size[1] - new_size[1]\n",
    "    delta_h = target_size[0] - new_size[0]\n",
    "    color = [0, 0, 0]  # Black padding\n",
    "    img = cv2.copyMakeBorder(img, delta_h // 2, delta_h - delta_h // 2,\n",
    "                             delta_w // 2, delta_w - delta_w // 2,\n",
    "                             cv2.BORDER_CONSTANT, value=color)\n",
    "    img = img / 255.0\n",
    "    return img\n"
   ]
  },
  {
   "cell_type": "code",
   "execution_count": 36,
   "id": "a826d433-1d1d-43c9-aeed-059da267548a",
   "metadata": {},
   "outputs": [],
   "source": [
    "import tensorflow as tf\n",
    "from tensorflow.keras import layers, models\n",
    "import os\n",
    "import cv2\n",
    "import numpy as np\n",
    "from sklearn.model_selection import train_test_split  # Import train_test_split\n",
    "\n",
    "def load_images(folder_paths, labels, img_size=(224, 224)):\n",
    "    \"\"\"\n",
    "    Load and preprocess all images from given folders.\n",
    "    \"\"\"\n",
    "    images, image_labels = [], []\n",
    "    for folder, label in zip(folder_paths, labels):\n",
    "        for filename in os.listdir(folder):\n",
    "            img_path = os.path.join(folder, filename)\n",
    "            img = cv2.imread(img_path)\n",
    "            if img is not None:\n",
    "                img = cv2.resize(img, img_size)  # Resize to fixed size\n",
    "                images.append(img)\n",
    "                image_labels.append(label)\n",
    "    return np.array(images), np.array(image_labels)\n"
   ]
  },
  {
   "cell_type": "code",
   "execution_count": 37,
   "id": "03e8ef44-73a0-440c-8571-2447eeec2a2c",
   "metadata": {},
   "outputs": [],
   "source": [
    "# Define paths and labels\n",
    "folders = [me_only_dir, me_others_dir, others_only_dir]\n",
    "labels = [1, 1, 0]  # 1 = \"me\", 0 = \"not me\"\n",
    "\n",
    "# Load and preprocess the data\n",
    "X, y = load_images(folders, labels)\n",
    "X = X / 255.0  # Normalize pixel values\n",
    "X_train, X_test, y_train, y_test = train_test_split(X, y, test_size=0.2, random_state=42)\n",
    "\n",
    "# Define the model with a Resizing layer to handle variable input sizes\n",
    "model = models.Sequential([\n",
    "    layers.Input(shape=(None, None, 3)),\n",
    "    layers.Resizing(224, 224),\n",
    "    layers.Conv2D(32, (3, 3), activation='relu'),\n",
    "    layers.MaxPooling2D((2, 2)),\n",
    "    layers.Conv2D(64, (3, 3), activation='relu'),\n",
    "    layers.MaxPooling2D((2, 2)),\n",
    "    layers.Conv2D(128, (3, 3), activation='relu'),\n",
    "    layers.MaxPooling2D((2, 2)),\n",
    "    layers.Conv2D(256, (3, 3), activation='relu'),\n",
    "    layers.MaxPooling2D((2, 2)),\n",
    "    layers.Flatten(),\n",
    "    layers.Dense(128, activation='relu'),\n",
    "    layers.Dropout(0.5),  # Prevent overfitting\n",
    "    layers.Dense(1, activation='sigmoid')\n",
    "])\n"
   ]
  },
  {
   "cell_type": "code",
   "execution_count": 40,
   "id": "9e7a37a3-07b4-4165-b3ce-19c9291edcfd",
   "metadata": {},
   "outputs": [],
   "source": [
    "base_model = tf.keras.applications.MobileNetV2(input_shape=(224, 224, 3),\n",
    "                                               include_top=False,\n",
    "                                               weights='imagenet')\n",
    "base_model.trainable = False  # Freeze the base model\n",
    "\n",
    "model = models.Sequential([\n",
    "    base_model,\n",
    "    layers.GlobalAveragePooling2D(),\n",
    "    layers.Dense(128, activation='relu'),\n",
    "    layers.Dropout(0.5),\n",
    "    layers.Dense(1, activation='sigmoid')\n",
    "])\n"
   ]
  },
  {
   "cell_type": "code",
   "execution_count": 41,
   "id": "fb174bf4-27b1-4aa4-81d1-78d3117e5a37",
   "metadata": {},
   "outputs": [],
   "source": [
    "model.compile(optimizer='adam', loss='binary_crossentropy', metrics=['accuracy'])\n"
   ]
  },
  {
   "cell_type": "code",
   "execution_count": 42,
   "id": "a723a52b-c401-4e86-b723-d8f5a355cca3",
   "metadata": {},
   "outputs": [],
   "source": [
    "optimizer = tf.keras.optimizers.Adam(learning_rate=0.0001)\n",
    "model.compile(optimizer=optimizer, loss='binary_crossentropy', metrics=['accuracy'])\n"
   ]
  },
  {
   "cell_type": "code",
   "execution_count": 44,
   "id": "d8f41843-a937-4abb-adba-51f75cc4df03",
   "metadata": {},
   "outputs": [
    {
     "name": "stdout",
     "output_type": "stream",
     "text": [
      "Epoch 1/50\n"
     ]
    },
    {
     "name": "stderr",
     "output_type": "stream",
     "text": [
      "/Library/Frameworks/Python.framework/Versions/3.12/lib/python3.12/site-packages/keras/src/trainers/data_adapters/py_dataset_adapter.py:122: UserWarning: Your `PyDataset` class should call `super().__init__(**kwargs)` in its constructor. `**kwargs` can include `workers`, `use_multiprocessing`, `max_queue_size`. Do not pass these arguments to `fit()`, as they will be ignored.\n",
      "  self._warn_if_super_not_called()\n"
     ]
    },
    {
     "name": "stdout",
     "output_type": "stream",
     "text": [
      "\u001b[1m4/4\u001b[0m \u001b[32m━━━━━━━━━━━━━━━━━━━━\u001b[0m\u001b[37m\u001b[0m \u001b[1m12s\u001b[0m 1s/step - accuracy: 0.4222 - loss: 1.0277 - val_accuracy: 0.6333 - val_loss: 0.6189\n",
      "Epoch 2/50\n",
      "\u001b[1m4/4\u001b[0m \u001b[32m━━━━━━━━━━━━━━━━━━━━\u001b[0m\u001b[37m\u001b[0m \u001b[1m5s\u001b[0m 898ms/step - accuracy: 0.5325 - loss: 0.7479 - val_accuracy: 0.7667 - val_loss: 0.5625\n",
      "Epoch 3/50\n",
      "\u001b[1m4/4\u001b[0m \u001b[32m━━━━━━━━━━━━━━━━━━━━\u001b[0m\u001b[37m\u001b[0m \u001b[1m5s\u001b[0m 902ms/step - accuracy: 0.6212 - loss: 0.6595 - val_accuracy: 0.7667 - val_loss: 0.5314\n",
      "Epoch 4/50\n",
      "\u001b[1m4/4\u001b[0m \u001b[32m━━━━━━━━━━━━━━━━━━━━\u001b[0m\u001b[37m\u001b[0m \u001b[1m5s\u001b[0m 905ms/step - accuracy: 0.6058 - loss: 0.6837 - val_accuracy: 0.8000 - val_loss: 0.5049\n",
      "Epoch 5/50\n",
      "\u001b[1m4/4\u001b[0m \u001b[32m━━━━━━━━━━━━━━━━━━━━\u001b[0m\u001b[37m\u001b[0m \u001b[1m5s\u001b[0m 991ms/step - accuracy: 0.7303 - loss: 0.5540 - val_accuracy: 0.8000 - val_loss: 0.4830\n",
      "Epoch 6/50\n",
      "\u001b[1m4/4\u001b[0m \u001b[32m━━━━━━━━━━━━━━━━━━━━\u001b[0m\u001b[37m\u001b[0m \u001b[1m5s\u001b[0m 916ms/step - accuracy: 0.6727 - loss: 0.5669 - val_accuracy: 0.8000 - val_loss: 0.4614\n",
      "Epoch 7/50\n",
      "\u001b[1m4/4\u001b[0m \u001b[32m━━━━━━━━━━━━━━━━━━━━\u001b[0m\u001b[37m\u001b[0m \u001b[1m5s\u001b[0m 917ms/step - accuracy: 0.6616 - loss: 0.6164 - val_accuracy: 0.8333 - val_loss: 0.4416\n",
      "Epoch 8/50\n",
      "\u001b[1m4/4\u001b[0m \u001b[32m━━━━━━━━━━━━━━━━━━━━\u001b[0m\u001b[37m\u001b[0m \u001b[1m5s\u001b[0m 995ms/step - accuracy: 0.7893 - loss: 0.4316 - val_accuracy: 0.8667 - val_loss: 0.4234\n",
      "Epoch 9/50\n",
      "\u001b[1m4/4\u001b[0m \u001b[32m━━━━━━━━━━━━━━━━━━━━\u001b[0m\u001b[37m\u001b[0m \u001b[1m5s\u001b[0m 943ms/step - accuracy: 0.8119 - loss: 0.4295 - val_accuracy: 0.9000 - val_loss: 0.4086\n",
      "Epoch 10/50\n",
      "\u001b[1m4/4\u001b[0m \u001b[32m━━━━━━━━━━━━━━━━━━━━\u001b[0m\u001b[37m\u001b[0m \u001b[1m5s\u001b[0m 896ms/step - accuracy: 0.8674 - loss: 0.4202 - val_accuracy: 0.9000 - val_loss: 0.3870\n",
      "Epoch 11/50\n",
      "\u001b[1m4/4\u001b[0m \u001b[32m━━━━━━━━━━━━━━━━━━━━\u001b[0m\u001b[37m\u001b[0m \u001b[1m5s\u001b[0m 955ms/step - accuracy: 0.7718 - loss: 0.4574 - val_accuracy: 0.8667 - val_loss: 0.3691\n",
      "Epoch 12/50\n",
      "\u001b[1m4/4\u001b[0m \u001b[32m━━━━━━━━━━━━━━━━━━━━\u001b[0m\u001b[37m\u001b[0m \u001b[1m5s\u001b[0m 897ms/step - accuracy: 0.8525 - loss: 0.3793 - val_accuracy: 0.8667 - val_loss: 0.3558\n",
      "Epoch 13/50\n",
      "\u001b[1m4/4\u001b[0m \u001b[32m━━━━━━━━━━━━━━━━━━━━\u001b[0m\u001b[37m\u001b[0m \u001b[1m5s\u001b[0m 993ms/step - accuracy: 0.8148 - loss: 0.4370 - val_accuracy: 0.9333 - val_loss: 0.3467\n",
      "Epoch 14/50\n",
      "\u001b[1m4/4\u001b[0m \u001b[32m━━━━━━━━━━━━━━━━━━━━\u001b[0m\u001b[37m\u001b[0m \u001b[1m5s\u001b[0m 901ms/step - accuracy: 0.8314 - loss: 0.3609 - val_accuracy: 0.9333 - val_loss: 0.3387\n",
      "Epoch 15/50\n",
      "\u001b[1m4/4\u001b[0m \u001b[32m━━━━━━━━━━━━━━━━━━━━\u001b[0m\u001b[37m\u001b[0m \u001b[1m5s\u001b[0m 913ms/step - accuracy: 0.8152 - loss: 0.4268 - val_accuracy: 0.9333 - val_loss: 0.3301\n",
      "Epoch 16/50\n",
      "\u001b[1m4/4\u001b[0m \u001b[32m━━━━━━━━━━━━━━━━━━━━\u001b[0m\u001b[37m\u001b[0m \u001b[1m5s\u001b[0m 903ms/step - accuracy: 0.8827 - loss: 0.3169 - val_accuracy: 0.9667 - val_loss: 0.3180\n",
      "Epoch 17/50\n",
      "\u001b[1m4/4\u001b[0m \u001b[32m━━━━━━━━━━━━━━━━━━━━\u001b[0m\u001b[37m\u001b[0m \u001b[1m5s\u001b[0m 1s/step - accuracy: 0.8801 - loss: 0.3315 - val_accuracy: 0.9000 - val_loss: 0.3049\n",
      "Epoch 18/50\n",
      "\u001b[1m4/4\u001b[0m \u001b[32m━━━━━━━━━━━━━━━━━━━━\u001b[0m\u001b[37m\u001b[0m \u001b[1m5s\u001b[0m 906ms/step - accuracy: 0.8674 - loss: 0.3402 - val_accuracy: 0.9333 - val_loss: 0.2954\n",
      "Epoch 19/50\n",
      "\u001b[1m4/4\u001b[0m \u001b[32m━━━━━━━━━━━━━━━━━━━━\u001b[0m\u001b[37m\u001b[0m \u001b[1m5s\u001b[0m 909ms/step - accuracy: 0.8781 - loss: 0.3418 - val_accuracy: 0.9667 - val_loss: 0.2899\n",
      "Epoch 20/50\n",
      "\u001b[1m4/4\u001b[0m \u001b[32m━━━━━━━━━━━━━━━━━━━━\u001b[0m\u001b[37m\u001b[0m \u001b[1m5s\u001b[0m 988ms/step - accuracy: 0.8648 - loss: 0.2931 - val_accuracy: 0.9667 - val_loss: 0.2830\n",
      "Epoch 21/50\n",
      "\u001b[1m4/4\u001b[0m \u001b[32m━━━━━━━━━━━━━━━━━━━━\u001b[0m\u001b[37m\u001b[0m \u001b[1m5s\u001b[0m 934ms/step - accuracy: 0.8754 - loss: 0.3231 - val_accuracy: 0.9667 - val_loss: 0.2745\n",
      "Epoch 22/50\n",
      "\u001b[1m4/4\u001b[0m \u001b[32m━━━━━━━━━━━━━━━━━━━━\u001b[0m\u001b[37m\u001b[0m \u001b[1m5s\u001b[0m 924ms/step - accuracy: 0.8996 - loss: 0.2798 - val_accuracy: 0.9667 - val_loss: 0.2668\n",
      "Epoch 23/50\n",
      "\u001b[1m4/4\u001b[0m \u001b[32m━━━━━━━━━━━━━━━━━━━━\u001b[0m\u001b[37m\u001b[0m \u001b[1m5s\u001b[0m 921ms/step - accuracy: 0.8762 - loss: 0.3244 - val_accuracy: 0.9667 - val_loss: 0.2609\n",
      "Epoch 24/50\n",
      "\u001b[1m4/4\u001b[0m \u001b[32m━━━━━━━━━━━━━━━━━━━━\u001b[0m\u001b[37m\u001b[0m \u001b[1m5s\u001b[0m 924ms/step - accuracy: 0.8725 - loss: 0.3240 - val_accuracy: 0.9667 - val_loss: 0.2511\n",
      "Epoch 25/50\n",
      "\u001b[1m4/4\u001b[0m \u001b[32m━━━━━━━━━━━━━━━━━━━━\u001b[0m\u001b[37m\u001b[0m \u001b[1m5s\u001b[0m 1s/step - accuracy: 0.9091 - loss: 0.2443 - val_accuracy: 0.9667 - val_loss: 0.2430\n",
      "Epoch 26/50\n",
      "\u001b[1m4/4\u001b[0m \u001b[32m━━━━━━━━━━━━━━━━━━━━\u001b[0m\u001b[37m\u001b[0m \u001b[1m5s\u001b[0m 923ms/step - accuracy: 0.9298 - loss: 0.2617 - val_accuracy: 0.9667 - val_loss: 0.2357\n",
      "Epoch 27/50\n",
      "\u001b[1m4/4\u001b[0m \u001b[32m━━━━━━━━━━━━━━━━━━━━\u001b[0m\u001b[37m\u001b[0m \u001b[1m5s\u001b[0m 904ms/step - accuracy: 0.9388 - loss: 0.2899 - val_accuracy: 0.9667 - val_loss: 0.2302\n",
      "Epoch 28/50\n",
      "\u001b[1m4/4\u001b[0m \u001b[32m━━━━━━━━━━━━━━━━━━━━\u001b[0m\u001b[37m\u001b[0m \u001b[1m5s\u001b[0m 913ms/step - accuracy: 0.9214 - loss: 0.2752 - val_accuracy: 0.9667 - val_loss: 0.2244\n",
      "Epoch 29/50\n",
      "\u001b[1m4/4\u001b[0m \u001b[32m━━━━━━━━━━━━━━━━━━━━\u001b[0m\u001b[37m\u001b[0m \u001b[1m5s\u001b[0m 947ms/step - accuracy: 0.9414 - loss: 0.2352 - val_accuracy: 1.0000 - val_loss: 0.2162\n",
      "Epoch 30/50\n",
      "\u001b[1m4/4\u001b[0m \u001b[32m━━━━━━━━━━━━━━━━━━━━\u001b[0m\u001b[37m\u001b[0m \u001b[1m5s\u001b[0m 912ms/step - accuracy: 0.9179 - loss: 0.3144 - val_accuracy: 1.0000 - val_loss: 0.2123\n",
      "Epoch 31/50\n",
      "\u001b[1m4/4\u001b[0m \u001b[32m━━━━━━━━━━━━━━━━━━━━\u001b[0m\u001b[37m\u001b[0m \u001b[1m5s\u001b[0m 936ms/step - accuracy: 0.9307 - loss: 0.2526 - val_accuracy: 1.0000 - val_loss: 0.2104\n",
      "Epoch 32/50\n",
      "\u001b[1m4/4\u001b[0m \u001b[32m━━━━━━━━━━━━━━━━━━━━\u001b[0m\u001b[37m\u001b[0m \u001b[1m5s\u001b[0m 997ms/step - accuracy: 0.9061 - loss: 0.2315 - val_accuracy: 0.9667 - val_loss: 0.2093\n",
      "Epoch 33/50\n",
      "\u001b[1m4/4\u001b[0m \u001b[32m━━━━━━━━━━━━━━━━━━━━\u001b[0m\u001b[37m\u001b[0m \u001b[1m5s\u001b[0m 899ms/step - accuracy: 0.9014 - loss: 0.2455 - val_accuracy: 1.0000 - val_loss: 0.2045\n",
      "Epoch 34/50\n",
      "\u001b[1m4/4\u001b[0m \u001b[32m━━━━━━━━━━━━━━━━━━━━\u001b[0m\u001b[37m\u001b[0m \u001b[1m5s\u001b[0m 994ms/step - accuracy: 0.9563 - loss: 0.1720 - val_accuracy: 1.0000 - val_loss: 0.1981\n",
      "Epoch 35/50\n",
      "\u001b[1m4/4\u001b[0m \u001b[32m━━━━━━━━━━━━━━━━━━━━\u001b[0m\u001b[37m\u001b[0m \u001b[1m5s\u001b[0m 954ms/step - accuracy: 0.8881 - loss: 0.2338 - val_accuracy: 0.9667 - val_loss: 0.1939\n",
      "Epoch 36/50\n",
      "\u001b[1m4/4\u001b[0m \u001b[32m━━━━━━━━━━━━━━━━━━━━\u001b[0m\u001b[37m\u001b[0m \u001b[1m5s\u001b[0m 915ms/step - accuracy: 0.9124 - loss: 0.2831 - val_accuracy: 0.9667 - val_loss: 0.1908\n",
      "Epoch 37/50\n",
      "\u001b[1m4/4\u001b[0m \u001b[32m━━━━━━━━━━━━━━━━━━━━\u001b[0m\u001b[37m\u001b[0m \u001b[1m5s\u001b[0m 1s/step - accuracy: 0.8892 - loss: 0.3388 - val_accuracy: 1.0000 - val_loss: 0.1888\n",
      "Epoch 38/50\n",
      "\u001b[1m4/4\u001b[0m \u001b[32m━━━━━━━━━━━━━━━━━━━━\u001b[0m\u001b[37m\u001b[0m \u001b[1m5s\u001b[0m 930ms/step - accuracy: 0.9191 - loss: 0.2213 - val_accuracy: 1.0000 - val_loss: 0.1877\n",
      "Epoch 39/50\n",
      "\u001b[1m4/4\u001b[0m \u001b[32m━━━━━━━━━━━━━━━━━━━━\u001b[0m\u001b[37m\u001b[0m \u001b[1m5s\u001b[0m 933ms/step - accuracy: 0.9224 - loss: 0.1977 - val_accuracy: 1.0000 - val_loss: 0.1875\n",
      "Epoch 40/50\n",
      "\u001b[1m4/4\u001b[0m \u001b[32m━━━━━━━━━━━━━━━━━━━━\u001b[0m\u001b[37m\u001b[0m \u001b[1m5s\u001b[0m 909ms/step - accuracy: 0.9548 - loss: 0.1730 - val_accuracy: 0.9667 - val_loss: 0.1847\n",
      "Epoch 41/50\n",
      "\u001b[1m4/4\u001b[0m \u001b[32m━━━━━━━━━━━━━━━━━━━━\u001b[0m\u001b[37m\u001b[0m \u001b[1m5s\u001b[0m 930ms/step - accuracy: 0.9333 - loss: 0.1967 - val_accuracy: 1.0000 - val_loss: 0.1764\n",
      "Epoch 42/50\n",
      "\u001b[1m4/4\u001b[0m \u001b[32m━━━━━━━━━━━━━━━━━━━━\u001b[0m\u001b[37m\u001b[0m \u001b[1m5s\u001b[0m 992ms/step - accuracy: 0.9683 - loss: 0.1405 - val_accuracy: 1.0000 - val_loss: 0.1726\n",
      "Epoch 43/50\n",
      "\u001b[1m4/4\u001b[0m \u001b[32m━━━━━━━━━━━━━━━━━━━━\u001b[0m\u001b[37m\u001b[0m \u001b[1m5s\u001b[0m 938ms/step - accuracy: 0.9304 - loss: 0.2112 - val_accuracy: 1.0000 - val_loss: 0.1707\n",
      "Epoch 44/50\n",
      "\u001b[1m4/4\u001b[0m \u001b[32m━━━━━━━━━━━━━━━━━━━━\u001b[0m\u001b[37m\u001b[0m \u001b[1m5s\u001b[0m 1s/step - accuracy: 0.9014 - loss: 0.2307 - val_accuracy: 1.0000 - val_loss: 0.1708\n",
      "Epoch 45/50\n",
      "\u001b[1m4/4\u001b[0m \u001b[32m━━━━━━━━━━━━━━━━━━━━\u001b[0m\u001b[37m\u001b[0m \u001b[1m5s\u001b[0m 906ms/step - accuracy: 0.9485 - loss: 0.2026 - val_accuracy: 1.0000 - val_loss: 0.1687\n",
      "Epoch 46/50\n",
      "\u001b[1m4/4\u001b[0m \u001b[32m━━━━━━━━━━━━━━━━━━━━\u001b[0m\u001b[37m\u001b[0m \u001b[1m5s\u001b[0m 939ms/step - accuracy: 0.9384 - loss: 0.1964 - val_accuracy: 1.0000 - val_loss: 0.1667\n",
      "Epoch 47/50\n",
      "\u001b[1m4/4\u001b[0m \u001b[32m━━━━━━━━━━━━━━━━━━━━\u001b[0m\u001b[37m\u001b[0m \u001b[1m5s\u001b[0m 994ms/step - accuracy: 0.9583 - loss: 0.1952 - val_accuracy: 0.9667 - val_loss: 0.1665\n",
      "Epoch 48/50\n",
      "\u001b[1m4/4\u001b[0m \u001b[32m━━━━━━━━━━━━━━━━━━━━\u001b[0m\u001b[37m\u001b[0m \u001b[1m5s\u001b[0m 1s/step - accuracy: 0.9744 - loss: 0.1697 - val_accuracy: 0.9667 - val_loss: 0.1645\n",
      "Epoch 49/50\n",
      "\u001b[1m4/4\u001b[0m \u001b[32m━━━━━━━━━━━━━━━━━━━━\u001b[0m\u001b[37m\u001b[0m \u001b[1m5s\u001b[0m 910ms/step - accuracy: 0.9600 - loss: 0.1606 - val_accuracy: 0.9667 - val_loss: 0.1624\n",
      "Epoch 50/50\n",
      "\u001b[1m4/4\u001b[0m \u001b[32m━━━━━━━━━━━━━━━━━━━━\u001b[0m\u001b[37m\u001b[0m \u001b[1m5s\u001b[0m 1s/step - accuracy: 0.9393 - loss: 0.1652 - val_accuracy: 0.9667 - val_loss: 0.1570\n"
     ]
    }
   ],
   "source": [
    "history = model.fit(\n",
    "    datagen.flow(X_train, y_train, batch_size=32),\n",
    "    epochs=50,\n",
    "    validation_data=(X_test, y_test),\n",
    "    callbacks=[tf.keras.callbacks.EarlyStopping(monitor='val_loss', patience=5)]\n",
    ")\n"
   ]
  },
  {
   "cell_type": "code",
   "execution_count": 45,
   "id": "d958ac7e-c4b6-47df-8aa7-7644134dff81",
   "metadata": {},
   "outputs": [
    {
     "name": "stdout",
     "output_type": "stream",
     "text": [
      "\u001b[1m1/1\u001b[0m \u001b[32m━━━━━━━━━━━━━━━━━━━━\u001b[0m\u001b[37m\u001b[0m \u001b[1m3s\u001b[0m 3s/step\n"
     ]
    },
    {
     "data": {
      "image/png": "[encoded data removed]",
      "text/plain": [
       "<Figure size 800x600 with 2 Axes>"
      ]
     },
     "metadata": {},
     "output_type": "display_data"
    }
   ],
   "source": [
    "from sklearn.metrics import confusion_matrix\n",
    "import seaborn as sns\n",
    "import matplotlib.pyplot as plt\n",
    "\n",
    "y_pred = (model.predict(X_test) > 0.5).astype(\"int32\")\n",
    "cm = confusion_matrix(y_test, y_pred)\n",
    "\n",
    "plt.figure(figsize=(8, 6))\n",
    "sns.heatmap(cm, annot=True, fmt='d', cmap='Blues', xticklabels=['Not Me', 'Me'], yticklabels=['Not Me', 'Me'])\n",
    "plt.xlabel('Predicted')\n",
    "plt.ylabel('Actual')\n",
    "plt.title('Confusion Matrix')\n",
    "plt.show()\n"
   ]
  },
  {
   "cell_type": "code",
   "execution_count": 48,
   "id": "860d8e31-8f22-48c3-9eb7-c2617d9c7384",
   "metadata": {},
   "outputs": [
    {
     "name": "stdout",
     "output_type": "stream",
     "text": [
      "\u001b[1m1/1\u001b[0m \u001b[32m━━━━━━━━━━━━━━━━━━━━\u001b[0m\u001b[37m\u001b[0m \u001b[1m1s\u001b[0m 734ms/step - accuracy: 0.9667 - loss: 0.1570\n",
      "Test Accuracy: 96.67%\n"
     ]
    }
   ],
   "source": [
    "test_loss, test_accuracy = model.evaluate(X_test, y_test)\n",
    "print(f\"Test Accuracy: {test_accuracy * 100:.2f}%\")\n"
   ]
  }
 ],
 "metadata": {
  "kernelspec": {
   "display_name": "Python 3 (ipykernel)",
   "language": "python",
   "name": "python3"
  },
  "language_info": {
   "codemirror_mode": {
    "name": "ipython",
    "version": 3
   },
   "file_extension": ".py",
   "mimetype": "text/x-python",
   "name": "python",
   "nbconvert_exporter": "python",
   "pygments_lexer": "ipython3",
   "version": "3.12.1"
  }
 },
 "nbformat": 4,
 "nbformat_minor": 5
}
